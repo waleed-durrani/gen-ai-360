{
  "nbformat": 4,
  "nbformat_minor": 0,
  "metadata": {
    "colab": {
      "provenance": [],
      "authorship_tag": "ABX9TyPQirWewJtlA31UihI23/3D",
      "include_colab_link": true
    },
    "kernelspec": {
      "name": "python3",
      "display_name": "Python 3"
    },
    "language_info": {
      "name": "python"
    }
  },
  "cells": [
    {
      "cell_type": "markdown",
      "metadata": {
        "id": "view-in-github",
        "colab_type": "text"
      },
      "source": [
        "<a href=\"https://colab.research.google.com/github/waleed-durrani/gen-ai-360/blob/main/GenAI_360_LangChain_101.ipynb\" target=\"_parent\"><img src=\"https://colab.research.google.com/assets/colab-badge.svg\" alt=\"Open In Colab\"/></a>"
      ]
    },
    {
      "cell_type": "markdown",
      "source": [
        "##**Required Packages:**\n",
        "\n",
        "Try using latest versions of the following packages except langchain. For smooth practical, try using specified version of LangChain:\n",
        "\n",
        "- langchain==0.0.208 (Course's code is tested on this version)\n",
        "- deeplake\n",
        "- openai\n",
        "- tiktoken\n",
        "\n",
        "`!pip install langchain==0.0.208 deeplake openai tiktoken`\n",
        "\n",
        "---\n",
        "\n"
      ],
      "metadata": {
        "id": "WuwYwFJZg8bM"
      }
    },
    {
      "cell_type": "code",
      "execution_count": 2,
      "metadata": {
        "id": "3Rml295efIrJ"
      },
      "outputs": [],
      "source": [
        "!pip install langchain==0.0.208 deeplake openai tiktoken -qq"
      ]
    },
    {
      "cell_type": "code",
      "source": [],
      "metadata": {
        "id": "phxAMT4qg4HC"
      },
      "execution_count": null,
      "outputs": []
    }
  ]
}